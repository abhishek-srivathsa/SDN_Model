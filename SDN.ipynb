{
  "nbformat": 4,
  "nbformat_minor": 0,
  "metadata": {
    "colab": {
      "name": "SDN.ipynb",
      "provenance": [],
      "authorship_tag": "ABX9TyN/LBw63rjoasyYh2N4eqaw",
      "include_colab_link": true
    },
    "kernelspec": {
      "name": "python3",
      "display_name": "Python 3"
    },
    "language_info": {
      "name": "python"
    }
  },
  "cells": [
    {
      "cell_type": "markdown",
      "metadata": {
        "id": "view-in-github",
        "colab_type": "text"
      },
      "source": [
        "<a href=\"https://colab.research.google.com/github/abhishek-srivathsa/SDN_Model/blob/main/SDN.ipynb\" target=\"_parent\"><img src=\"https://colab.research.google.com/assets/colab-badge.svg\" alt=\"Open In Colab\"/></a>"
      ]
    },
    {
      "cell_type": "code",
      "execution_count": null,
      "metadata": {
        "id": "vLtPu34J47ww"
      },
      "outputs": [],
      "source": [
        "#!pip install numpy\n",
        "#!pip install pandas\n",
        "#!pip install matplotlib\n",
        "#!pip install seaborn\n",
        "#!pip install sklearn"
      ]
    },
    {
      "cell_type": "code",
      "source": [
        "import numpy as np\n",
        "import pandas as pd\n",
        "from scipy import stats\n",
        "import pickle\n",
        "\n",
        "# Plotting libraries\n",
        "import seaborn as sns\n",
        "import matplotlib.pyplot as plt\n",
        "\n",
        "# Sklearn libraries\n",
        "from sklearn.preprocessing import StandardScaler\n",
        "from sklearn.preprocessing import label_binarize\n",
        "from sklearn.model_selection import train_test_split\n",
        "from sklearn.decomposition import PCA\n",
        "from sklearn.linear_model import LogisticRegression\n",
        "from sklearn.cluster import DBSCAN, KMeans\n",
        "from sklearn.metrics import accuracy_score, classification_report, confusion_matrix\n",
        "\n",
        "\n",
        "%matplotlib inline\n"
      ],
      "metadata": {
        "id": "2LDQwq2g6iKX"
      },
      "execution_count": null,
      "outputs": []
    },
    {
      "cell_type": "code",
      "source": [
        "ping_df = pd.read_csv('ping_training_data.csv', delimiter='\\t')\n",
        "voice_df = pd.read_csv('voice_training_data.csv', delimiter='\\t')\n",
        "dns_df = pd.read_csv('dns_training_data.csv', delimiter='\\t')\n",
        "telnet_df = pd.read_csv('telnet_training_data.csv', delimiter='\\t')\n",
        "df = pd.concat([ping_df, voice_df, dns_df, telnet_df], ignore_index=True)"
      ],
      "metadata": {
        "id": "30v9DSo46r47"
      },
      "execution_count": null,
      "outputs": []
    },
    {
      "cell_type": "code",
      "source": [
        "df.dropna(inplace=True)"
      ],
      "metadata": {
        "id": "1vdnGS3F6u_u"
      },
      "execution_count": null,
      "outputs": []
    },
    {
      "cell_type": "code",
      "source": [
        "df.drop('Forward Packets', axis=1, inplace=True)\n",
        "df.drop('Forward Bytes', axis=1, inplace=True)\n",
        "df.drop('Reverse Packets', axis=1, inplace=True)\n",
        "df.drop('Reverse Bytes', axis=1, inplace=True)"
      ],
      "metadata": {
        "id": "7FPQaZSh6zRA"
      },
      "execution_count": null,
      "outputs": []
    },
    {
      "cell_type": "code",
      "source": [
        "print(df.shape)"
      ],
      "metadata": {
        "colab": {
          "base_uri": "https://localhost:8080/"
        },
        "id": "Wy_7l4J262ED",
        "outputId": "67dc18b9-296d-4883-c5ad-1fa59e0d6ac8"
      },
      "execution_count": null,
      "outputs": [
        {
          "output_type": "stream",
          "name": "stdout",
          "text": [
            "(5242, 13)\n"
          ]
        }
      ]
    },
    {
      "cell_type": "code",
      "source": [
        "df.describe()"
      ],
      "metadata": {
        "colab": {
          "base_uri": "https://localhost:8080/",
          "height": 416
        },
        "id": "3DhrSyMk65XJ",
        "outputId": "94baaffb-119c-4998-aa99-00784035cb70"
      },
      "execution_count": null,
      "outputs": [
        {
          "output_type": "execute_result",
          "data": {
            "text/plain": [
              "       Delta Forward Packets  Delta Forward Bytes  \\\n",
              "count            5242.000000          5242.000000   \n",
              "mean                7.814765           682.359214   \n",
              "std                27.445539          2417.020821   \n",
              "min                 0.000000             0.000000   \n",
              "25%                 0.000000             0.000000   \n",
              "50%                 1.000000            66.000000   \n",
              "75%                 1.000000            98.000000   \n",
              "max               211.000000         18581.000000   \n",
              "\n",
              "       Forward Instantaneous Packets per Second  \\\n",
              "count                               5242.000000   \n",
              "mean                                   7.763640   \n",
              "std                                   27.343341   \n",
              "min                                    0.000000   \n",
              "25%                                    0.000000   \n",
              "50%                                    1.000000   \n",
              "75%                                    1.000000   \n",
              "max                                  211.000000   \n",
              "\n",
              "       Forward Average Packets per second  \\\n",
              "count                         5242.000000   \n",
              "mean                             6.094360   \n",
              "std                             10.656380   \n",
              "min                              0.000000   \n",
              "25%                              0.909309   \n",
              "50%                              1.021459   \n",
              "75%                              1.038462   \n",
              "max                             76.750000   \n",
              "\n",
              "       Forward Instantaneous Bytes per Second  \\\n",
              "count                             5242.000000   \n",
              "mean                               677.842999   \n",
              "std                               2407.997270   \n",
              "min                                  0.000000   \n",
              "25%                                  0.000000   \n",
              "50%                                 66.000000   \n",
              "75%                                 98.000000   \n",
              "max                              18581.000000   \n",
              "\n",
              "       Forward Average Bytes per second  Delta Reverse Packets  \\\n",
              "count                       5242.000000            5242.000000   \n",
              "mean                         530.202926              17.525754   \n",
              "std                          937.773493              31.726859   \n",
              "min                            0.000000               0.000000   \n",
              "25%                           62.009611               1.000000   \n",
              "50%                           98.762821               1.000000   \n",
              "75%                           99.485632              37.000000   \n",
              "max                         6711.000000             210.000000   \n",
              "\n",
              "       Delta Reverse Bytes  DeltaReverse Instantaneous Packets per Second  \\\n",
              "count          5242.000000                                    5242.000000   \n",
              "mean           2070.781000                                      17.447921   \n",
              "std            3404.747532                                      31.645749   \n",
              "min               0.000000                                       0.000000   \n",
              "25%              71.000000                                       1.000000   \n",
              "50%              98.000000                                       1.000000   \n",
              "75%            3696.000000                                      37.000000   \n",
              "max           15484.000000                                     210.000000   \n",
              "\n",
              "       Reverse Average Packets per second  \\\n",
              "count                         5242.000000   \n",
              "mean                            15.710718   \n",
              "std                             18.427478   \n",
              "min                              0.000000   \n",
              "25%                              1.020725   \n",
              "50%                              1.430508   \n",
              "75%                             34.969697   \n",
              "max                             76.500000   \n",
              "\n",
              "       Reverse Instantaneous Bytes per Second  \\\n",
              "count                             5242.000000   \n",
              "mean                              2064.795498   \n",
              "std                               3401.356026   \n",
              "min                                  0.000000   \n",
              "25%                                 71.000000   \n",
              "50%                                 98.000000   \n",
              "75%                               3541.000000   \n",
              "max                              15484.000000   \n",
              "\n",
              "       Reverse Average Bytes per second  \n",
              "count                       5242.000000  \n",
              "mean                        1943.829194  \n",
              "std                         2739.969899  \n",
              "min                            0.000000  \n",
              "25%                           98.670691  \n",
              "50%                          192.470941  \n",
              "75%                         2313.000000  \n",
              "max                         7054.188679  "
            ],
            "text/html": [
              "\n",
              "  <div id=\"df-f892b2fc-a220-4eff-be58-b693f6c3971c\">\n",
              "    <div class=\"colab-df-container\">\n",
              "      <div>\n",
              "<style scoped>\n",
              "    .dataframe tbody tr th:only-of-type {\n",
              "        vertical-align: middle;\n",
              "    }\n",
              "\n",
              "    .dataframe tbody tr th {\n",
              "        vertical-align: top;\n",
              "    }\n",
              "\n",
              "    .dataframe thead th {\n",
              "        text-align: right;\n",
              "    }\n",
              "</style>\n",
              "<table border=\"1\" class=\"dataframe\">\n",
              "  <thead>\n",
              "    <tr style=\"text-align: right;\">\n",
              "      <th></th>\n",
              "      <th>Delta Forward Packets</th>\n",
              "      <th>Delta Forward Bytes</th>\n",
              "      <th>Forward Instantaneous Packets per Second</th>\n",
              "      <th>Forward Average Packets per second</th>\n",
              "      <th>Forward Instantaneous Bytes per Second</th>\n",
              "      <th>Forward Average Bytes per second</th>\n",
              "      <th>Delta Reverse Packets</th>\n",
              "      <th>Delta Reverse Bytes</th>\n",
              "      <th>DeltaReverse Instantaneous Packets per Second</th>\n",
              "      <th>Reverse Average Packets per second</th>\n",
              "      <th>Reverse Instantaneous Bytes per Second</th>\n",
              "      <th>Reverse Average Bytes per second</th>\n",
              "    </tr>\n",
              "  </thead>\n",
              "  <tbody>\n",
              "    <tr>\n",
              "      <th>count</th>\n",
              "      <td>5242.000000</td>\n",
              "      <td>5242.000000</td>\n",
              "      <td>5242.000000</td>\n",
              "      <td>5242.000000</td>\n",
              "      <td>5242.000000</td>\n",
              "      <td>5242.000000</td>\n",
              "      <td>5242.000000</td>\n",
              "      <td>5242.000000</td>\n",
              "      <td>5242.000000</td>\n",
              "      <td>5242.000000</td>\n",
              "      <td>5242.000000</td>\n",
              "      <td>5242.000000</td>\n",
              "    </tr>\n",
              "    <tr>\n",
              "      <th>mean</th>\n",
              "      <td>7.814765</td>\n",
              "      <td>682.359214</td>\n",
              "      <td>7.763640</td>\n",
              "      <td>6.094360</td>\n",
              "      <td>677.842999</td>\n",
              "      <td>530.202926</td>\n",
              "      <td>17.525754</td>\n",
              "      <td>2070.781000</td>\n",
              "      <td>17.447921</td>\n",
              "      <td>15.710718</td>\n",
              "      <td>2064.795498</td>\n",
              "      <td>1943.829194</td>\n",
              "    </tr>\n",
              "    <tr>\n",
              "      <th>std</th>\n",
              "      <td>27.445539</td>\n",
              "      <td>2417.020821</td>\n",
              "      <td>27.343341</td>\n",
              "      <td>10.656380</td>\n",
              "      <td>2407.997270</td>\n",
              "      <td>937.773493</td>\n",
              "      <td>31.726859</td>\n",
              "      <td>3404.747532</td>\n",
              "      <td>31.645749</td>\n",
              "      <td>18.427478</td>\n",
              "      <td>3401.356026</td>\n",
              "      <td>2739.969899</td>\n",
              "    </tr>\n",
              "    <tr>\n",
              "      <th>min</th>\n",
              "      <td>0.000000</td>\n",
              "      <td>0.000000</td>\n",
              "      <td>0.000000</td>\n",
              "      <td>0.000000</td>\n",
              "      <td>0.000000</td>\n",
              "      <td>0.000000</td>\n",
              "      <td>0.000000</td>\n",
              "      <td>0.000000</td>\n",
              "      <td>0.000000</td>\n",
              "      <td>0.000000</td>\n",
              "      <td>0.000000</td>\n",
              "      <td>0.000000</td>\n",
              "    </tr>\n",
              "    <tr>\n",
              "      <th>25%</th>\n",
              "      <td>0.000000</td>\n",
              "      <td>0.000000</td>\n",
              "      <td>0.000000</td>\n",
              "      <td>0.909309</td>\n",
              "      <td>0.000000</td>\n",
              "      <td>62.009611</td>\n",
              "      <td>1.000000</td>\n",
              "      <td>71.000000</td>\n",
              "      <td>1.000000</td>\n",
              "      <td>1.020725</td>\n",
              "      <td>71.000000</td>\n",
              "      <td>98.670691</td>\n",
              "    </tr>\n",
              "    <tr>\n",
              "      <th>50%</th>\n",
              "      <td>1.000000</td>\n",
              "      <td>66.000000</td>\n",
              "      <td>1.000000</td>\n",
              "      <td>1.021459</td>\n",
              "      <td>66.000000</td>\n",
              "      <td>98.762821</td>\n",
              "      <td>1.000000</td>\n",
              "      <td>98.000000</td>\n",
              "      <td>1.000000</td>\n",
              "      <td>1.430508</td>\n",
              "      <td>98.000000</td>\n",
              "      <td>192.470941</td>\n",
              "    </tr>\n",
              "    <tr>\n",
              "      <th>75%</th>\n",
              "      <td>1.000000</td>\n",
              "      <td>98.000000</td>\n",
              "      <td>1.000000</td>\n",
              "      <td>1.038462</td>\n",
              "      <td>98.000000</td>\n",
              "      <td>99.485632</td>\n",
              "      <td>37.000000</td>\n",
              "      <td>3696.000000</td>\n",
              "      <td>37.000000</td>\n",
              "      <td>34.969697</td>\n",
              "      <td>3541.000000</td>\n",
              "      <td>2313.000000</td>\n",
              "    </tr>\n",
              "    <tr>\n",
              "      <th>max</th>\n",
              "      <td>211.000000</td>\n",
              "      <td>18581.000000</td>\n",
              "      <td>211.000000</td>\n",
              "      <td>76.750000</td>\n",
              "      <td>18581.000000</td>\n",
              "      <td>6711.000000</td>\n",
              "      <td>210.000000</td>\n",
              "      <td>15484.000000</td>\n",
              "      <td>210.000000</td>\n",
              "      <td>76.500000</td>\n",
              "      <td>15484.000000</td>\n",
              "      <td>7054.188679</td>\n",
              "    </tr>\n",
              "  </tbody>\n",
              "</table>\n",
              "</div>\n",
              "      <button class=\"colab-df-convert\" onclick=\"convertToInteractive('df-f892b2fc-a220-4eff-be58-b693f6c3971c')\"\n",
              "              title=\"Convert this dataframe to an interactive table.\"\n",
              "              style=\"display:none;\">\n",
              "        \n",
              "  <svg xmlns=\"http://www.w3.org/2000/svg\" height=\"24px\"viewBox=\"0 0 24 24\"\n",
              "       width=\"24px\">\n",
              "    <path d=\"M0 0h24v24H0V0z\" fill=\"none\"/>\n",
              "    <path d=\"M18.56 5.44l.94 2.06.94-2.06 2.06-.94-2.06-.94-.94-2.06-.94 2.06-2.06.94zm-11 1L8.5 8.5l.94-2.06 2.06-.94-2.06-.94L8.5 2.5l-.94 2.06-2.06.94zm10 10l.94 2.06.94-2.06 2.06-.94-2.06-.94-.94-2.06-.94 2.06-2.06.94z\"/><path d=\"M17.41 7.96l-1.37-1.37c-.4-.4-.92-.59-1.43-.59-.52 0-1.04.2-1.43.59L10.3 9.45l-7.72 7.72c-.78.78-.78 2.05 0 2.83L4 21.41c.39.39.9.59 1.41.59.51 0 1.02-.2 1.41-.59l7.78-7.78 2.81-2.81c.8-.78.8-2.07 0-2.86zM5.41 20L4 18.59l7.72-7.72 1.47 1.35L5.41 20z\"/>\n",
              "  </svg>\n",
              "      </button>\n",
              "      \n",
              "  <style>\n",
              "    .colab-df-container {\n",
              "      display:flex;\n",
              "      flex-wrap:wrap;\n",
              "      gap: 12px;\n",
              "    }\n",
              "\n",
              "    .colab-df-convert {\n",
              "      background-color: #E8F0FE;\n",
              "      border: none;\n",
              "      border-radius: 50%;\n",
              "      cursor: pointer;\n",
              "      display: none;\n",
              "      fill: #1967D2;\n",
              "      height: 32px;\n",
              "      padding: 0 0 0 0;\n",
              "      width: 32px;\n",
              "    }\n",
              "\n",
              "    .colab-df-convert:hover {\n",
              "      background-color: #E2EBFA;\n",
              "      box-shadow: 0px 1px 2px rgba(60, 64, 67, 0.3), 0px 1px 3px 1px rgba(60, 64, 67, 0.15);\n",
              "      fill: #174EA6;\n",
              "    }\n",
              "\n",
              "    [theme=dark] .colab-df-convert {\n",
              "      background-color: #3B4455;\n",
              "      fill: #D2E3FC;\n",
              "    }\n",
              "\n",
              "    [theme=dark] .colab-df-convert:hover {\n",
              "      background-color: #434B5C;\n",
              "      box-shadow: 0px 1px 3px 1px rgba(0, 0, 0, 0.15);\n",
              "      filter: drop-shadow(0px 1px 2px rgba(0, 0, 0, 0.3));\n",
              "      fill: #FFFFFF;\n",
              "    }\n",
              "  </style>\n",
              "\n",
              "      <script>\n",
              "        const buttonEl =\n",
              "          document.querySelector('#df-f892b2fc-a220-4eff-be58-b693f6c3971c button.colab-df-convert');\n",
              "        buttonEl.style.display =\n",
              "          google.colab.kernel.accessAllowed ? 'block' : 'none';\n",
              "\n",
              "        async function convertToInteractive(key) {\n",
              "          const element = document.querySelector('#df-f892b2fc-a220-4eff-be58-b693f6c3971c');\n",
              "          const dataTable =\n",
              "            await google.colab.kernel.invokeFunction('convertToInteractive',\n",
              "                                                     [key], {});\n",
              "          if (!dataTable) return;\n",
              "\n",
              "          const docLinkHtml = 'Like what you see? Visit the ' +\n",
              "            '<a target=\"_blank\" href=https://colab.research.google.com/notebooks/data_table.ipynb>data table notebook</a>'\n",
              "            + ' to learn more about interactive tables.';\n",
              "          element.innerHTML = '';\n",
              "          dataTable['output_type'] = 'display_data';\n",
              "          await google.colab.output.renderOutput(dataTable, element);\n",
              "          const docLink = document.createElement('div');\n",
              "          docLink.innerHTML = docLinkHtml;\n",
              "          element.appendChild(docLink);\n",
              "        }\n",
              "      </script>\n",
              "    </div>\n",
              "  </div>\n",
              "  "
            ]
          },
          "metadata": {},
          "execution_count": 8
        }
      ]
    },
    {
      "cell_type": "code",
      "source": [
        "df['Traffic Type'] = df['Traffic Type'].astype('category')\n",
        "df['Traffic Type'].cat.categories"
      ],
      "metadata": {
        "colab": {
          "base_uri": "https://localhost:8080/"
        },
        "id": "dmpExegk69V2",
        "outputId": "e944b944-f155-4283-9088-150cef68a06f"
      },
      "execution_count": null,
      "outputs": [
        {
          "output_type": "execute_result",
          "data": {
            "text/plain": [
              "Index(['dns', 'ping', 'telnet', 'voice'], dtype='object')"
            ]
          },
          "metadata": {},
          "execution_count": 9
        }
      ]
    },
    {
      "cell_type": "code",
      "source": [
        "df['Traffic Type'].cat.codes.head()\n",
        "print('Features:',df.columns[:-1].values)"
      ],
      "metadata": {
        "colab": {
          "base_uri": "https://localhost:8080/"
        },
        "id": "nH6wI3lJ7F2W",
        "outputId": "3cee1ef7-3e49-453b-b2d7-2b7e3401e528"
      },
      "execution_count": null,
      "outputs": [
        {
          "output_type": "stream",
          "name": "stdout",
          "text": [
            "Features: ['Delta Forward Packets' 'Delta Forward Bytes'\n",
            " 'Forward Instantaneous Packets per Second'\n",
            " 'Forward Average Packets per second'\n",
            " 'Forward Instantaneous Bytes per Second'\n",
            " 'Forward Average Bytes per second' 'Delta Reverse Packets'\n",
            " 'Delta Reverse Bytes' 'DeltaReverse Instantaneous Packets per Second'\n",
            " 'Reverse Average Packets per second'\n",
            " 'Reverse Instantaneous Bytes per Second'\n",
            " 'Reverse Average Bytes per second']\n"
          ]
        }
      ]
    },
    {
      "cell_type": "code",
      "source": [
        "print ('Value counts:')\n",
        "df['Traffic Type'].value_counts()"
      ],
      "metadata": {
        "colab": {
          "base_uri": "https://localhost:8080/"
        },
        "id": "lX8k9H5_7RZX",
        "outputId": "dc92743e-c5a1-40eb-8aaf-d5dd6d3fc1f6"
      },
      "execution_count": null,
      "outputs": [
        {
          "output_type": "stream",
          "name": "stdout",
          "text": [
            "Value counts:\n"
          ]
        },
        {
          "output_type": "execute_result",
          "data": {
            "text/plain": [
              "ping      1770\n",
              "telnet    1181\n",
              "dns       1154\n",
              "voice     1137\n",
              "Name: Traffic Type, dtype: int64"
            ]
          },
          "metadata": {},
          "execution_count": 11
        }
      ]
    },
    {
      "cell_type": "code",
      "source": [
        "X = df.drop('Traffic Type',axis=1)\n",
        "y = df['Traffic Type']"
      ],
      "metadata": {
        "id": "dJf3tNDR7SVw"
      },
      "execution_count": null,
      "outputs": []
    },
    {
      "cell_type": "code",
      "source": [
        "X_train, X_test, y_train, y_test = train_test_split(X,y,test_size=0.5, random_state=101)"
      ],
      "metadata": {
        "id": "NGyZjbmd7VLV"
      },
      "execution_count": null,
      "outputs": []
    },
    {
      "cell_type": "code",
      "source": [
        "model = LogisticRegression()\n",
        "model.fit(X_train,y_train)"
      ],
      "metadata": {
        "colab": {
          "base_uri": "https://localhost:8080/"
        },
        "id": "AMVleqbY7Xlc",
        "outputId": "2f782108-09f9-42a0-d97b-18606e0b1803"
      },
      "execution_count": null,
      "outputs": [
        {
          "output_type": "stream",
          "name": "stderr",
          "text": [
            "/usr/local/lib/python3.7/dist-packages/sklearn/linear_model/_logistic.py:818: ConvergenceWarning: lbfgs failed to converge (status=1):\n",
            "STOP: TOTAL NO. of ITERATIONS REACHED LIMIT.\n",
            "\n",
            "Increase the number of iterations (max_iter) or scale the data as shown in:\n",
            "    https://scikit-learn.org/stable/modules/preprocessing.html\n",
            "Please also refer to the documentation for alternative solver options:\n",
            "    https://scikit-learn.org/stable/modules/linear_model.html#logistic-regression\n",
            "  extra_warning_msg=_LOGISTIC_SOLVER_CONVERGENCE_MSG,\n"
          ]
        },
        {
          "output_type": "execute_result",
          "data": {
            "text/plain": [
              "LogisticRegression()"
            ]
          },
          "metadata": {},
          "execution_count": 15
        }
      ]
    },
    {
      "cell_type": "code",
      "source": [
        "idx = 2590 #random number\n",
        "single_x_test = [df.iloc[idx].drop('Traffic Type').tolist()]\n",
        "single_y_test = df.iloc[idx]['Traffic Type']\n",
        "single_prediction = model.predict(single_x_test)\n",
        "print('For this sample, our model predicted %s and it was actually %s' % (single_prediction[0], single_y_test))"
      ],
      "metadata": {
        "colab": {
          "base_uri": "https://localhost:8080/"
        },
        "id": "_w_T3Iyf7aEA",
        "outputId": "c6c8cb77-e2ee-471f-aa35-d30c62ab8ef7"
      },
      "execution_count": null,
      "outputs": [
        {
          "output_type": "stream",
          "name": "stdout",
          "text": [
            "For this sample, our model predicted voice and it was actually voice\n"
          ]
        },
        {
          "output_type": "stream",
          "name": "stderr",
          "text": [
            "/usr/local/lib/python3.7/dist-packages/sklearn/base.py:451: UserWarning: X does not have valid feature names, but LogisticRegression was fitted with feature names\n",
            "  \"X does not have valid feature names, but\"\n"
          ]
        }
      ]
    },
    {
      "cell_type": "code",
      "source": [
        "predictions = model.predict(X_test)\n",
        "resultsDF = pd.DataFrame({\n",
        "        'true':y_test,\n",
        "        'predicted':predictions\n",
        "    })\n",
        "resultsDF.head()"
      ],
      "metadata": {
        "colab": {
          "base_uri": "https://localhost:8080/",
          "height": 206
        },
        "id": "rQ5K7zRt7oz2",
        "outputId": "6c62301b-9db7-4cfe-87e1-1a85dcf39e46"
      },
      "execution_count": null,
      "outputs": [
        {
          "output_type": "execute_result",
          "data": {
            "text/plain": [
              "       true predicted\n",
              "3156    dns       dns\n",
              "2530  voice     voice\n",
              "3129    dns       dns\n",
              "2301  voice     voice\n",
              "2746  voice     voice"
            ],
            "text/html": [
              "\n",
              "  <div id=\"df-680e3144-db90-4f96-b03a-84d447070d5a\">\n",
              "    <div class=\"colab-df-container\">\n",
              "      <div>\n",
              "<style scoped>\n",
              "    .dataframe tbody tr th:only-of-type {\n",
              "        vertical-align: middle;\n",
              "    }\n",
              "\n",
              "    .dataframe tbody tr th {\n",
              "        vertical-align: top;\n",
              "    }\n",
              "\n",
              "    .dataframe thead th {\n",
              "        text-align: right;\n",
              "    }\n",
              "</style>\n",
              "<table border=\"1\" class=\"dataframe\">\n",
              "  <thead>\n",
              "    <tr style=\"text-align: right;\">\n",
              "      <th></th>\n",
              "      <th>true</th>\n",
              "      <th>predicted</th>\n",
              "    </tr>\n",
              "  </thead>\n",
              "  <tbody>\n",
              "    <tr>\n",
              "      <th>3156</th>\n",
              "      <td>dns</td>\n",
              "      <td>dns</td>\n",
              "    </tr>\n",
              "    <tr>\n",
              "      <th>2530</th>\n",
              "      <td>voice</td>\n",
              "      <td>voice</td>\n",
              "    </tr>\n",
              "    <tr>\n",
              "      <th>3129</th>\n",
              "      <td>dns</td>\n",
              "      <td>dns</td>\n",
              "    </tr>\n",
              "    <tr>\n",
              "      <th>2301</th>\n",
              "      <td>voice</td>\n",
              "      <td>voice</td>\n",
              "    </tr>\n",
              "    <tr>\n",
              "      <th>2746</th>\n",
              "      <td>voice</td>\n",
              "      <td>voice</td>\n",
              "    </tr>\n",
              "  </tbody>\n",
              "</table>\n",
              "</div>\n",
              "      <button class=\"colab-df-convert\" onclick=\"convertToInteractive('df-680e3144-db90-4f96-b03a-84d447070d5a')\"\n",
              "              title=\"Convert this dataframe to an interactive table.\"\n",
              "              style=\"display:none;\">\n",
              "        \n",
              "  <svg xmlns=\"http://www.w3.org/2000/svg\" height=\"24px\"viewBox=\"0 0 24 24\"\n",
              "       width=\"24px\">\n",
              "    <path d=\"M0 0h24v24H0V0z\" fill=\"none\"/>\n",
              "    <path d=\"M18.56 5.44l.94 2.06.94-2.06 2.06-.94-2.06-.94-.94-2.06-.94 2.06-2.06.94zm-11 1L8.5 8.5l.94-2.06 2.06-.94-2.06-.94L8.5 2.5l-.94 2.06-2.06.94zm10 10l.94 2.06.94-2.06 2.06-.94-2.06-.94-.94-2.06-.94 2.06-2.06.94z\"/><path d=\"M17.41 7.96l-1.37-1.37c-.4-.4-.92-.59-1.43-.59-.52 0-1.04.2-1.43.59L10.3 9.45l-7.72 7.72c-.78.78-.78 2.05 0 2.83L4 21.41c.39.39.9.59 1.41.59.51 0 1.02-.2 1.41-.59l7.78-7.78 2.81-2.81c.8-.78.8-2.07 0-2.86zM5.41 20L4 18.59l7.72-7.72 1.47 1.35L5.41 20z\"/>\n",
              "  </svg>\n",
              "      </button>\n",
              "      \n",
              "  <style>\n",
              "    .colab-df-container {\n",
              "      display:flex;\n",
              "      flex-wrap:wrap;\n",
              "      gap: 12px;\n",
              "    }\n",
              "\n",
              "    .colab-df-convert {\n",
              "      background-color: #E8F0FE;\n",
              "      border: none;\n",
              "      border-radius: 50%;\n",
              "      cursor: pointer;\n",
              "      display: none;\n",
              "      fill: #1967D2;\n",
              "      height: 32px;\n",
              "      padding: 0 0 0 0;\n",
              "      width: 32px;\n",
              "    }\n",
              "\n",
              "    .colab-df-convert:hover {\n",
              "      background-color: #E2EBFA;\n",
              "      box-shadow: 0px 1px 2px rgba(60, 64, 67, 0.3), 0px 1px 3px 1px rgba(60, 64, 67, 0.15);\n",
              "      fill: #174EA6;\n",
              "    }\n",
              "\n",
              "    [theme=dark] .colab-df-convert {\n",
              "      background-color: #3B4455;\n",
              "      fill: #D2E3FC;\n",
              "    }\n",
              "\n",
              "    [theme=dark] .colab-df-convert:hover {\n",
              "      background-color: #434B5C;\n",
              "      box-shadow: 0px 1px 3px 1px rgba(0, 0, 0, 0.15);\n",
              "      filter: drop-shadow(0px 1px 2px rgba(0, 0, 0, 0.3));\n",
              "      fill: #FFFFFF;\n",
              "    }\n",
              "  </style>\n",
              "\n",
              "      <script>\n",
              "        const buttonEl =\n",
              "          document.querySelector('#df-680e3144-db90-4f96-b03a-84d447070d5a button.colab-df-convert');\n",
              "        buttonEl.style.display =\n",
              "          google.colab.kernel.accessAllowed ? 'block' : 'none';\n",
              "\n",
              "        async function convertToInteractive(key) {\n",
              "          const element = document.querySelector('#df-680e3144-db90-4f96-b03a-84d447070d5a');\n",
              "          const dataTable =\n",
              "            await google.colab.kernel.invokeFunction('convertToInteractive',\n",
              "                                                     [key], {});\n",
              "          if (!dataTable) return;\n",
              "\n",
              "          const docLinkHtml = 'Like what you see? Visit the ' +\n",
              "            '<a target=\"_blank\" href=https://colab.research.google.com/notebooks/data_table.ipynb>data table notebook</a>'\n",
              "            + ' to learn more about interactive tables.';\n",
              "          element.innerHTML = '';\n",
              "          dataTable['output_type'] = 'display_data';\n",
              "          await google.colab.output.renderOutput(dataTable, element);\n",
              "          const docLink = document.createElement('div');\n",
              "          docLink.innerHTML = docLinkHtml;\n",
              "          element.appendChild(docLink);\n",
              "        }\n",
              "      </script>\n",
              "    </div>\n",
              "  </div>\n",
              "  "
            ]
          },
          "metadata": {},
          "execution_count": 19
        }
      ]
    },
    {
      "cell_type": "code",
      "source": [
        "print('Accuracy: %.2f%%' % (accuracy_score(predictions,y_test)*100))"
      ],
      "metadata": {
        "colab": {
          "base_uri": "https://localhost:8080/"
        },
        "id": "0Uw_Vy1u7uYu",
        "outputId": "1a5a82eb-0ae0-4952-889b-e8f0359c7af9"
      },
      "execution_count": null,
      "outputs": [
        {
          "output_type": "stream",
          "name": "stdout",
          "text": [
            "Accuracy: 98.93%\n"
          ]
        }
      ]
    },
    {
      "cell_type": "code",
      "source": [
        "cm = confusion_matrix(predictions,y_test, labels=y.cat.categories)\n",
        "print(cm)"
      ],
      "metadata": {
        "colab": {
          "base_uri": "https://localhost:8080/"
        },
        "id": "qsE68Z-J742y",
        "outputId": "0dddc599-56e1-4262-9454-7d45b97bb2a5"
      },
      "execution_count": null,
      "outputs": [
        {
          "output_type": "stream",
          "name": "stdout",
          "text": [
            "[[569   0   2   2]\n",
            " [  1 885  12   1]\n",
            " [  0   8 569   0]\n",
            " [  1   0   1 570]]\n"
          ]
        }
      ]
    },
    {
      "cell_type": "code",
      "source": [
        "cmDF = pd.DataFrame()\n",
        "\n",
        "for i, row in enumerate(y.cat.categories):\n",
        "    temp = {}\n",
        "    for j, col in enumerate(y.cat.categories): \n",
        "        temp[col]=cm[i,j]\n",
        "    cmDF = cmDF.append(pd.DataFrame.from_dict({row:temp}, orient='index'))\n",
        "\n",
        "print(cmDF)"
      ],
      "metadata": {
        "colab": {
          "base_uri": "https://localhost:8080/"
        },
        "id": "ZWIMUlkD77Pv",
        "outputId": "cae2ee43-58a1-4591-897c-4da0518521ac"
      },
      "execution_count": null,
      "outputs": [
        {
          "output_type": "stream",
          "name": "stdout",
          "text": [
            "        dns  ping  telnet  voice\n",
            "dns     569     0       2      2\n",
            "ping      1   885      12      1\n",
            "telnet    0     8     569      0\n",
            "voice     1     0       1    570\n"
          ]
        }
      ]
    },
    {
      "cell_type": "code",
      "source": [
        "plt.figure(figsize=(6,6))\n",
        "plt.imshow(cm, interpolation='nearest', cmap=plt.cm.Blues)\n",
        "plt.title('Confusion Matrix', fontsize=15)\n",
        "plt.colorbar()\n",
        "tick_marks = np.arange(len(y.unique()))\n",
        "plt.xticks(tick_marks, y.unique(), rotation=45, fontsize=12)\n",
        "plt.yticks(tick_marks, y.unique(), fontsize=12)\n",
        "plt.xlabel('True Label', fontsize=15)\n",
        "plt.ylabel('Predicted Label', fontsize=15)\n",
        "\n",
        "for i in range(len(cm)):\n",
        "    for j in range(len(cm[i])):\n",
        "        color = 'black'   \n",
        "        if cm[i][j] > 5:\n",
        "            color = 'white'\n",
        "        plt.text(j, i, format(cm[i][j]), \n",
        "                horizontalalignment='center',\n",
        "                color=color, fontsize=15)"
      ],
      "metadata": {
        "colab": {
          "base_uri": "https://localhost:8080/",
          "height": 388
        },
        "id": "zz416owC7_rp",
        "outputId": "3a77e635-4da9-4a91-ca20-3f68bb97c15d"
      },
      "execution_count": null,
      "outputs": [
        {
          "output_type": "display_data",
          "data": {
            "text/plain": [
              "<Figure size 432x432 with 2 Axes>"
            ],
            "image/png": "[encoded data removed]"
          },
          "metadata": {
            "needs_background": "light"
          }
        }
      ]
    },
    {
      "cell_type": "code",
      "source": [
        "#k-means\n",
        "X = df.drop('Traffic Type',axis=1)\n",
        "y = df['Traffic Type']"
      ],
      "metadata": {
        "id": "EAtfsbiW8Bwi"
      },
      "execution_count": null,
      "outputs": []
    },
    {
      "cell_type": "code",
      "source": [
        "model = KMeans(n_clusters=len(y.cat.categories))"
      ],
      "metadata": {
        "id": "OzDD9rTX8ZMA"
      },
      "execution_count": null,
      "outputs": []
    },
    {
      "cell_type": "code",
      "source": [
        "clusters = model.fit_predict(X)\n",
        "model.cluster_centers_.shape"
      ],
      "metadata": {
        "colab": {
          "base_uri": "https://localhost:8080/"
        },
        "id": "tAdP_UbI8c8X",
        "outputId": "87a65806-d61f-43b1-b68c-2cf88ff29a80"
      },
      "execution_count": null,
      "outputs": [
        {
          "output_type": "execute_result",
          "data": {
            "text/plain": [
              "(4, 12)"
            ]
          },
          "metadata": {},
          "execution_count": 29
        }
      ]
    },
    {
      "cell_type": "code",
      "source": [
        "fig = plt.figure(figsize=(8, 3))\n",
        "for i in range(len(y.cat.categories)):\n",
        "    ax = fig.add_subplot(2, 2, 1 + i, xticks=[], yticks=[])\n",
        "    ax.set_title(str(y.cat.categories[i]))\n",
        "    ax.imshow(model.cluster_centers_[i].reshape((1, 12)), cmap=plt.cm.binary)"
      ],
      "metadata": {
        "colab": {
          "base_uri": "https://localhost:8080/",
          "height": 156
        },
        "id": "JXPcqvzP8fNV",
        "outputId": "e49432ea-b1ed-4f2d-9c44-9f691f8b5baa"
      },
      "execution_count": null,
      "outputs": [
        {
          "output_type": "display_data",
          "data": {
            "text/plain": [
              "<Figure size 576x216 with 4 Axes>"
            ],
            "image/png": "[encoded data removed]"
          },
          "metadata": {}
        }
      ]
    },
    {
      "cell_type": "code",
      "source": [
        "df['Traffic Type'].value_counts()"
      ],
      "metadata": {
        "colab": {
          "base_uri": "https://localhost:8080/"
        },
        "id": "EMB1XghU8nPH",
        "outputId": "fad4ecbc-9b24-4f02-f784-ec5becfb9597"
      },
      "execution_count": null,
      "outputs": [
        {
          "output_type": "execute_result",
          "data": {
            "text/plain": [
              "ping      1770\n",
              "telnet    1181\n",
              "dns       1154\n",
              "voice     1137\n",
              "Name: Traffic Type, dtype: int64"
            ]
          },
          "metadata": {},
          "execution_count": 31
        }
      ]
    },
    {
      "cell_type": "code",
      "source": [
        "strlabels = ['']*len(y)\n",
        "for i in range(len(clusters)):\n",
        "    if clusters[i]==0: strlabels[i] = 'dns'\n",
        "    elif clusters[i]==1: strlabels[i] = 'ping'\n",
        "    elif clusters[i]==2: strlabels[i] = 'telnet'\n",
        "    elif clusters[i]==3: strlabels[i] = 'voice'"
      ],
      "metadata": {
        "id": "lYFvgUvC8r2r"
      },
      "execution_count": null,
      "outputs": []
    },
    {
      "cell_type": "code",
      "source": [
        "from sklearn.metrics import accuracy_score\n",
        "accuracy_score(y, strlabels)*100.0"
      ],
      "metadata": {
        "colab": {
          "base_uri": "https://localhost:8080/"
        },
        "id": "C4s6C_fr8_VF",
        "outputId": "b6a15b12-d7a7-4dbd-a474-83a22ce2f17a"
      },
      "execution_count": null,
      "outputs": [
        {
          "output_type": "execute_result",
          "data": {
            "text/plain": [
              "5.646699732926364"
            ]
          },
          "metadata": {},
          "execution_count": 33
        }
      ]
    },
    {
      "cell_type": "code",
      "source": [
        "cm=confusion_matrix(y, strlabels, labels=['ping','voice','dns','telnet'])\n",
        "cm"
      ],
      "metadata": {
        "colab": {
          "base_uri": "https://localhost:8080/"
        },
        "id": "UluJU21h9Drh",
        "outputId": "6badf27e-1dda-4f7f-fbf2-b50ff33afed5"
      },
      "execution_count": null,
      "outputs": [
        {
          "output_type": "execute_result",
          "data": {
            "text/plain": [
              "array([[   0, 1770,    0,    0],\n",
              "       [ 986,    3,  148,    0],\n",
              "       [   0, 1154,    0,    0],\n",
              "       [  26,  779,   83,  293]])"
            ]
          },
          "metadata": {},
          "execution_count": 34
        }
      ]
    },
    {
      "cell_type": "code",
      "source": [
        "plt.figure(figsize=(6,6))\n",
        "plt.imshow(cm, interpolation='nearest', cmap=plt.cm.Blues)\n",
        "plt.title('Confusion Matrix', fontsize=15)\n",
        "plt.colorbar()\n",
        "tick_marks = np.arange(len(y.unique()))\n",
        "plt.xticks(tick_marks, rotation=45, fontsize=12)\n",
        "plt.yticks(tick_marks,  fontsize=12)\n",
        "plt.xlabel('True Label', fontsize=15)\n",
        "plt.ylabel('Predicted Label', fontsize=15)\n",
        "\n",
        "for i in range(len(cm)):\n",
        "    for j in range(len(cm[i])):\n",
        "        color = 'black'   \n",
        "        if cm[i][j] > 5:\n",
        "            color = 'white'\n",
        "        plt.text(j, i, format(cm[i][j]), \n",
        "                horizontalalignment='center',\n",
        "                color=color, fontsize=15)"
      ],
      "metadata": {
        "id": "qWU7gakI9YU6",
        "outputId": "831d197f-b8bd-492a-ee65-e4dfae3eea8f",
        "colab": {
          "base_uri": "https://localhost:8080/",
          "height": 368
        }
      },
      "execution_count": null,
      "outputs": [
        {
          "output_type": "display_data",
          "data": {
            "text/plain": [
              "<Figure size 432x432 with 2 Axes>"
            ],
            "image/png": "[encoded data removed]"
          },
          "metadata": {
            "needs_background": "light"
          }
        }
      ]
    }
  ]
}